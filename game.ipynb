{
 "cells": [
  {
   "cell_type": "code",
   "execution_count": null,
   "id": "b048cef8-d46b-46e2-b69b-e60f8aa3a8ec",
   "metadata": {},
   "outputs": [
    {
     "name": "stdout",
     "output_type": "stream",
     "text": [
      "🌲 You are in a dark forest.\n",
      "There are two paths in front of you.\n",
      "Choose wisely...\n",
      "\n",
      "1. Go left 🔙\n",
      "2. Go right 🔜\n"
     ]
    },
    {
     "name": "stdin",
     "output_type": "stream",
     "text": [
      "Which path do you choose? (1 or 2):  \n"
     ]
    },
    {
     "name": "stdout",
     "output_type": "stream",
     "text": [
      "\n",
      "👹 A monster jumps out and eats you!\n",
      "☠️ GAME OVER.\n"
     ]
    },
    {
     "name": "stdin",
     "output_type": "stream",
     "text": [
      "\n",
      "Do you want to play again? (yes/no):  yes\n"
     ]
    },
    {
     "name": "stdout",
     "output_type": "stream",
     "text": [
      "🌲 You are in a dark forest.\n",
      "There are two paths in front of you.\n",
      "Choose wisely...\n",
      "\n",
      "1. Go left 🔙\n",
      "2. Go right 🔜\n"
     ]
    },
    {
     "name": "stdin",
     "output_type": "stream",
     "text": [
      "Which path do you choose? (1 or 2):  \n"
     ]
    },
    {
     "name": "stdout",
     "output_type": "stream",
     "text": [
      "\n",
      "👹 A monster jumps out and eats you!\n",
      "☠️ GAME OVER.\n"
     ]
    },
    {
     "name": "stdin",
     "output_type": "stream",
     "text": [
      "\n",
      "Do you want to play again? (yes/no):  yes\n"
     ]
    },
    {
     "name": "stdout",
     "output_type": "stream",
     "text": [
      "🌲 You are in a dark forest.\n",
      "There are two paths in front of you.\n",
      "Choose wisely...\n",
      "\n",
      "1. Go left 🔙\n",
      "2. Go right 🔜\n"
     ]
    },
    {
     "name": "stdin",
     "output_type": "stream",
     "text": [
      "Which path do you choose? (1 or 2):  \n"
     ]
    },
    {
     "name": "stdout",
     "output_type": "stream",
     "text": [
      "\n",
      "👹 A monster jumps out and eats you!\n",
      "☠️ GAME OVER.\n"
     ]
    },
    {
     "name": "stdin",
     "output_type": "stream",
     "text": [
      "\n",
      "Do you want to play again? (yes/no):  yes\n"
     ]
    },
    {
     "name": "stdout",
     "output_type": "stream",
     "text": [
      "🌲 You are in a dark forest.\n",
      "There are two paths in front of you.\n",
      "Choose wisely...\n",
      "\n",
      "1. Go left 🔙\n",
      "2. Go right 🔜\n"
     ]
    },
    {
     "name": "stdin",
     "output_type": "stream",
     "text": [
      "Which path do you choose? (1 or 2):  2\n"
     ]
    },
    {
     "name": "stdout",
     "output_type": "stream",
     "text": [
      "\n",
      "💰 You found a treasure chest full of gold!\n",
      "🏆 YOU WIN!\n"
     ]
    },
    {
     "name": "stdin",
     "output_type": "stream",
     "text": [
      "\n",
      "Do you want to play again? (yes/no):  yes\n"
     ]
    },
    {
     "name": "stdout",
     "output_type": "stream",
     "text": [
      "🌲 You are in a dark forest.\n",
      "There are two paths in front of you.\n",
      "Choose wisely...\n",
      "\n",
      "1. Go left 🔙\n",
      "2. Go right 🔜\n"
     ]
    },
    {
     "name": "stdin",
     "output_type": "stream",
     "text": [
      "Which path do you choose? (1 or 2):  1\n"
     ]
    },
    {
     "name": "stdout",
     "output_type": "stream",
     "text": [
      "\n",
      "👹 A monster jumps out and eats you!\n",
      "☠️ GAME OVER.\n"
     ]
    }
   ],
   "source": [
    "def intro():\n",
    "    print(\"🌲 You are in a dark forest.\")\n",
    "    print(\"There are two paths in front of you.\")\n",
    "    print(\"Choose wisely...\\n\")\n",
    "\n",
    "def choose_path():\n",
    "    print(\"1. Go left 🔙\")\n",
    "    print(\"2. Go right 🔜\")\n",
    "    choice = input(\"Which path do you choose? (1 or 2): \")\n",
    "    return choice\n",
    "\n",
    "def check_path(choice):\n",
    "    import random\n",
    "    correct_path = str(random.randint(1, 2))\n",
    "\n",
    "    if choice == correct_path:\n",
    "        print(\"\\n💰 You found a treasure chest full of gold!\")\n",
    "        print(\"🏆 YOU WIN!\")\n",
    "    else:\n",
    "        print(\"\\n👹 A monster jumps out and eats you!\")\n",
    "        print(\"☠️ GAME OVER.\")\n",
    "\n",
    "def play_game():\n",
    "    play_again = \"yes\"\n",
    "    while play_again.lower() in [\"yes\", \"y\"]:\n",
    "        intro()\n",
    "        user_choice = choose_path()\n",
    "        check_path(user_choice)\n",
    "        play_again = input(\"\\nDo you want to play again? (yes/no): \")\n",
    "\n",
    "play_game()\n"
   ]
  },
  {
   "cell_type": "code",
   "execution_count": 1,
   "id": "af8686fc-52e2-4e8b-8f2d-492678d7d19c",
   "metadata": {},
   "outputs": [
    {
     "name": "stdout",
     "output_type": "stream",
     "text": [
      "🎮 Welcome to Text-Based Football Game!\n",
      "⚽ Choose your team:\n",
      "1. Argentina\n",
      "2. France\n",
      "3. Brazil\n",
      "4. Germany\n",
      "5. Spain\n",
      "6. Portugal\n",
      "7. India\n"
     ]
    },
    {
     "name": "stdin",
     "output_type": "stream",
     "text": [
      "Enter team number:  4\n"
     ]
    },
    {
     "name": "stdout",
     "output_type": "stream",
     "text": [
      "\n",
      "🏟️ Match: Germany vs Brazil!\n"
     ]
    },
    {
     "name": "stdin",
     "output_type": "stream",
     "text": [
      "\n",
      "🔫 Press Enter to shoot... \n"
     ]
    },
    {
     "name": "stdout",
     "output_type": "stream",
     "text": [
      "🥅 You scored a GOAL!\n",
      "💥 Enemy scored!\n",
      "Score: Germany 1 - 1 Brazil\n"
     ]
    },
    {
     "name": "stdin",
     "output_type": "stream",
     "text": [
      "\n",
      "🔫 Press Enter to shoot... \n"
     ]
    },
    {
     "name": "stdout",
     "output_type": "stream",
     "text": [
      "🥅 You scored a GOAL!\n",
      "💥 Enemy scored!\n",
      "Score: Germany 2 - 2 Brazil\n"
     ]
    },
    {
     "name": "stdin",
     "output_type": "stream",
     "text": [
      "\n",
      "🔫 Press Enter to shoot... 5\n"
     ]
    },
    {
     "name": "stdout",
     "output_type": "stream",
     "text": [
      "😖 You missed!\n",
      "💥 Enemy scored!\n",
      "Score: Germany 2 - 3 Brazil\n",
      "\n",
      "💀 Brazil WINS!\n"
     ]
    }
   ],
   "source": [
    "import random\n",
    "\n",
    "teams = [\"Argentina\", \"France\", \"Brazil\", \"Germany\", \"Spain\", \"Portugal\", \"India\"]\n",
    "\n",
    "def choose_team():\n",
    "    print(\"⚽ Choose your team:\")\n",
    "    for i, team in enumerate(teams, 1):\n",
    "        print(f\"{i}. {team}\")\n",
    "    choice = int(input(\"Enter team number: \"))\n",
    "    return teams[choice - 1]\n",
    "\n",
    "def shoot():\n",
    "    result = random.choice([\"GOAL\", \"MISS\"])\n",
    "    return result\n",
    "\n",
    "def play_game():\n",
    "    print(\"🎮 Welcome to Text-Based Football Game!\")\n",
    "    player_team = choose_team()\n",
    "    enemy_team = random.choice([t for t in teams if t != player_team])\n",
    "\n",
    "    print(f\"\\n🏟️ Match: {player_team} vs {enemy_team}!\")\n",
    "    player_score = 0\n",
    "    enemy_score = 0\n",
    "\n",
    "    while player_score < 3 and enemy_score < 3:\n",
    "        input(\"\\n🔫 Press Enter to shoot...\")\n",
    "        outcome = shoot()\n",
    "        if outcome == \"GOAL\":\n",
    "            print(\"🥅 You scored a GOAL!\")\n",
    "            player_score += 1\n",
    "        else:\n",
    "            print(\"😖 You missed!\")\n",
    "\n",
    "        # Enemy shoots\n",
    "        outcome = shoot()\n",
    "        if outcome == \"GOAL\":\n",
    "            print(\"💥 Enemy scored!\")\n",
    "            enemy_score += 1\n",
    "        else:\n",
    "            print(\"✅ Enemy missed!\")\n",
    "\n",
    "        print(f\"Score: {player_team} {player_score} - {enemy_score} {enemy_team}\")\n",
    "\n",
    "    if player_score > enemy_score:\n",
    "        print(f\"\\n🏆 {player_team} WINS!\")\n",
    "    else:\n",
    "        print(f\"\\n💀 {enemy_team} WINS!\")\n",
    "\n",
    "# Run the game\n",
    "play_game()\n"
   ]
  },
  {
   "cell_type": "code",
   "execution_count": null,
   "id": "3fb05756-f431-4c7b-a082-5cf2efbc54e7",
   "metadata": {},
   "outputs": [],
   "source": []
  }
 ],
 "metadata": {
  "kernelspec": {
   "display_name": "Python 3 (ipykernel)",
   "language": "python",
   "name": "python3"
  },
  "language_info": {
   "codemirror_mode": {
    "name": "ipython",
    "version": 3
   },
   "file_extension": ".py",
   "mimetype": "text/x-python",
   "name": "python",
   "nbconvert_exporter": "python",
   "pygments_lexer": "ipython3",
   "version": "3.12.4"
  }
 },
 "nbformat": 4,
 "nbformat_minor": 5
}
